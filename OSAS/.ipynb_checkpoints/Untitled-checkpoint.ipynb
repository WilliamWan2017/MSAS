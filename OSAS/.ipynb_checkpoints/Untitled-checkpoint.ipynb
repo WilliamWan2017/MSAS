{
 "cells": [
  {
   "cell_type": "code",
   "execution_count": 1,
   "metadata": {},
   "outputs": [],
   "source": [
    "import pandas as pd;\n",
    "import numpy as np\n",
    "import matplotlib.pyplot as plt"
   ]
  },
  {
   "cell_type": "code",
   "execution_count": 2,
   "metadata": {},
   "outputs": [],
   "source": [
    "input_data_path = r\"C:\\Users\\evana\\Google Drive\\semester_two\\infosys722\\assignment\\MSAS\\MSAS\\bank-additional\\bank-additional-full.csv\";"
   ]
  },
  {
   "cell_type": "code",
   "execution_count": 3,
   "metadata": {},
   "outputs": [],
   "source": [
    "data=pd.read_csv(input_data_path,sep=\";\");"
   ]
  },
  {
   "cell_type": "code",
   "execution_count": 4,
   "metadata": {},
   "outputs": [
    {
     "name": "stdout",
     "output_type": "stream",
     "text": [
      "<class 'pandas.core.frame.DataFrame'>\n",
      "RangeIndex: 41188 entries, 0 to 41187\n",
      "Data columns (total 21 columns):\n",
      "age               41188 non-null int64\n",
      "job               41188 non-null object\n",
      "marital           41188 non-null object\n",
      "education         41188 non-null object\n",
      "default           41188 non-null object\n",
      "housing           41188 non-null object\n",
      "loan              41188 non-null object\n",
      "contact           41188 non-null object\n",
      "month             41188 non-null object\n",
      "day_of_week       41188 non-null object\n",
      "duration          41188 non-null int64\n",
      "campaign          41188 non-null int64\n",
      "pdays             41188 non-null int64\n",
      "previous          41188 non-null int64\n",
      "poutcome          41188 non-null object\n",
      "emp.var.rate      41188 non-null float64\n",
      "cons.price.idx    41188 non-null float64\n",
      "cons.conf.idx     41188 non-null float64\n",
      "euribor3m         41188 non-null float64\n",
      "nr.employed       41188 non-null float64\n",
      "y                 41188 non-null object\n",
      "dtypes: float64(5), int64(5), object(11)\n",
      "memory usage: 6.6+ MB\n"
     ]
    }
   ],
   "source": [
    "data.info()"
   ]
  },
  {
   "cell_type": "code",
   "execution_count": 5,
   "metadata": {},
   "outputs": [
    {
     "name": "stdout",
     "output_type": "stream",
     "text": [
      "unknown value count in job:\n",
      "330\n",
      "unknown value count in marital:\n",
      "80\n",
      "unknown value count in education:\n",
      "1731\n",
      "unknown value count in default:\n",
      "8597\n",
      "unknown value count in housing:\n",
      "990\n",
      "unknown value count in loan:\n",
      "990\n",
      "unknown value count in contact:\n",
      "0\n",
      "unknown value count in month:\n",
      "0\n",
      "unknown value count in day_of_week:\n",
      "0\n",
      "unknown value count in poutcome:\n",
      "0\n",
      "unknown value count in y:\n",
      "0\n"
     ]
    }
   ],
   "source": [
    "for i in data.columns:\n",
    "    if type(data[i][0]) is str:\n",
    "        print(\"unknown value count in \" + i+\":\\n\" +str(data[data[i]==\"unknown\"][\"y\"].count()))\n",
    "        \n"
   ]
  },
  {
   "cell_type": "code",
   "execution_count": 9,
   "metadata": {},
   "outputs": [],
   "source": [
    "def fill_unknown(data, bin_attrs, cate_attrs, numeric_attrs):\n",
    "    # fill_attrs = [\"default\"]\n",
    "    fill_attrs = []\n",
    "    for i in bin_attrs+cate_attrs:\n",
    "        if data[data[i] == \"unknown\"][\"y\"].count() < 2000:\n",
    "            # delete col containing unknown\n",
    "            data = data[data[i] != \"unknown\"] \n",
    "        else:\n",
    "            fill_attrs.append(i)\n",
    "    \n",
    "    data = encode_cate_attrs(data, cate_attrs)\n",
    "    data = encode_bin_attrs(data, bin_attrs)\n",
    "    data = trans_num_attrs(data, numeric_attrs)\n",
    "    data[\"y\"] = data[\"y\"].map({\"no\":0,\"yes\": 1}).astype(int)\n",
    "    for i in fill_attrs:     \n",
    "        test_data = data[data[i] == \"unknown\"]\n",
    "        testX = test_data.drop(fill_attrs, axis=1)\n",
    "        train_data = data[data[i] != \"unknown\"]        \n",
    "        trainY = train_data[i]\n",
    "        trainX = train_data.drop(fill_attrs, axis=1)    \n",
    "        test_data[i] = train_predict_unknown(trainX, trainY, testX)\n",
    "        data = pd.concat([train_data, test_data])\n",
    "    \n",
    "    return data"
   ]
  },
  {
   "cell_type": "code",
   "execution_count": 14,
   "metadata": {},
   "outputs": [
    {
     "data": {
      "text/plain": [
       "<pandas.core.groupby.groupby.DataFrameGroupBy object at 0x000001C4388DC978>"
      ]
     },
     "execution_count": 14,
     "metadata": {},
     "output_type": "execute_result"
    }
   ],
   "source": [
    "data.groupby(\"age\")"
   ]
  },
  {
   "cell_type": "code",
   "execution_count": 9,
   "metadata": {},
   "outputs": [],
   "source": [
    "dataY=data[data[\"y\"]==\"yes\"]\n",
    "dataN=data[data[\"y\"]==\"no\"]"
   ]
  },
  {
   "cell_type": "code",
   "execution_count": 24,
   "metadata": {},
   "outputs": [
    {
     "data": {
      "text/plain": [
       "age\n",
       "17      2\n",
       "18     12\n",
       "19     20\n",
       "20     23\n",
       "21     29\n",
       "22     36\n",
       "23     48\n",
       "24     86\n",
       "25     93\n",
       "26    122\n",
       "27    114\n",
       "28    151\n",
       "29    186\n",
       "30    202\n",
       "31    220\n",
       "32    184\n",
       "33    210\n",
       "34    184\n",
       "35    167\n",
       "36    154\n",
       "37    137\n",
       "38    143\n",
       "39    114\n",
       "40     84\n",
       "41    113\n",
       "42     91\n",
       "43     88\n",
       "44     77\n",
       "45     92\n",
       "46     79\n",
       "     ... \n",
       "62     25\n",
       "63     17\n",
       "64     27\n",
       "65     23\n",
       "66     29\n",
       "67     11\n",
       "68     15\n",
       "69     14\n",
       "70     19\n",
       "71     21\n",
       "72     13\n",
       "73     13\n",
       "74     15\n",
       "75     11\n",
       "76     18\n",
       "77     13\n",
       "78     14\n",
       "79      7\n",
       "80     18\n",
       "81      8\n",
       "82     11\n",
       "83      8\n",
       "84      3\n",
       "85      7\n",
       "86      5\n",
       "87      1\n",
       "88      9\n",
       "89      2\n",
       "92      3\n",
       "98      2\n",
       "Name: y, Length: 75, dtype: int64"
      ]
     },
     "execution_count": 24,
     "metadata": {},
     "output_type": "execute_result"
    }
   ],
   "source": [
    "dataY.groupby(\"age\")[\"y\"].count()"
   ]
  },
  {
   "cell_type": "code",
   "execution_count": 11,
   "metadata": {},
   "outputs": [
    {
     "name": "stdout",
     "output_type": "stream",
     "text": [
      "[17, 18, 19, 20, 21, 22, 23, 24, 25, 26, 27, 28, 29, 30, 31, 32, 33, 34, 35, 36, 37, 38, 39, 40, 41, 42, 43, 44, 45, 46, 47, 48, 49, 50, 51, 52, 53, 54, 55, 56, 57, 58, 59, 60, 61, 62, 63, 64, 65, 66, 67, 68, 69, 70, 71, 72, 73, 74, 75, 76, 77, 78, 79, 80, 81, 82, 83, 84, 85, 86, 87, 88, 89, 91, 92, 94, 95, 98]\n"
     ]
    }
   ],
   "source": [
    "ages = sorted(data['age'].drop_duplicates())\n",
    "print(ages)\n",
    "\n",
    "menMeans = [dataY[dataY[\"age\"]==age][\"y\"].count() for age in ages]\n",
    "#print(menMeans)"
   ]
  },
  {
   "cell_type": "code",
   "execution_count": 43,
   "metadata": {},
   "outputs": [],
   "source": [
    "import numpy as np\n",
    "import matplotlib.pyplot as plt\n",
    "def ShowGroupAndY(fields):\n",
    "    for field in fields:\n",
    "        ages = sorted(data[field].drop_duplicates())\n",
    "#ages=ages[0:10]\n",
    "        N = len(ages)\n",
    "        #print(ages)\n",
    "        AgeN = [(dataN[dataN[field]==age][\"y\"].count()*100/data[data[field]==age][\"y\"].count()) for age in ages]\n",
    "       \n",
    "        AgeY = [dataY[dataY[field]==age][\"y\"].count()*100/data[data[field]==age][\"y\"].count() for age in ages]\n",
    "        ind = np.arange(N)    # the x locations for the groups\n",
    "        width = 0.35       # the width of the bars: can also be len(x) sequence\n",
    "       # AgeFull = [  100 for age in ages]\n",
    "#print(AgeY)\n",
    "#print(AgeN)\n",
    "        p1 = plt.bar(ind, AgeN, width )\n",
    "        p2 = plt.bar(ind, AgeY, width ,\n",
    "             bottom=AgeN)\n",
    "\n",
    "        plt.ylabel('count(*)')\n",
    "        plt.title('count by group by '+field)\n",
    "        plt.xticks(ind, ages)\n",
    "        plt.yticks(np.arange(0, 100, 10))\n",
    "        plt.legend((p1[0], p2[0]), ('No', 'Yes'))\n",
    "        plt.show()"
   ]
  },
  {
   "cell_type": "code",
   "execution_count": 44,
   "metadata": {},
   "outputs": [
    {
     "data": {
      "image/png": "[encoded data removed]",
      "text/plain": [
       "<Figure size 432x288 with 1 Axes>"
      ]
     },
     "metadata": {},
     "output_type": "display_data"
    },
    {
     "data": {
      "image/png": "[encoded data removed]",
      "text/plain": [
       "<Figure size 432x288 with 1 Axes>"
      ]
     },
     "metadata": {},
     "output_type": "display_data"
    },
    {
     "data": {
      "image/png": "[encoded data removed]",
      "text/plain": [
       "<Figure size 432x288 with 1 Axes>"
      ]
     },
     "metadata": {},
     "output_type": "display_data"
    },
    {
     "data": {
      "image/png": "[encoded data removed]",
      "text/plain": [
       "<Figure size 432x288 with 1 Axes>"
      ]
     },
     "metadata": {},
     "output_type": "display_data"
    },
    {
     "data": {
      "image/png": "[encoded data removed]",
      "text/plain": [
       "<Figure size 432x288 with 1 Axes>"
      ]
     },
     "metadata": {},
     "output_type": "display_data"
    },
    {
     "data": {
      "image/png": "[encoded data removed]",
      "text/plain": [
       "<Figure size 432x288 with 1 Axes>"
      ]
     },
     "metadata": {},
     "output_type": "display_data"
    },
    {
     "data": {
      "image/png": "[encoded data removed]",
      "text/plain": [
       "<Figure size 432x288 with 1 Axes>"
      ]
     },
     "metadata": {},
     "output_type": "display_data"
    }
   ],
   "source": [
    "ShowGroupAndY(['age','job','marital','education','default','housing','loan'])"
   ]
  },
  {
   "cell_type": "code",
   "execution_count": 39,
   "metadata": {},
   "outputs": [
    {
     "name": "stdout",
     "output_type": "stream",
     "text": [
      "['admin.', 'blue-collar', 'entrepreneur', 'housemaid', 'management', 'retired', 'self-employed', 'services', 'student', 'technician', 'unemployed', 'unknown']\n"
     ]
    },
    {
     "data": {
      "image/png": "[encoded data removed]",
      "text/plain": [
       "<Figure size 432x288 with 1 Axes>"
      ]
     },
     "metadata": {},
     "output_type": "display_data"
    },
    {
     "name": "stdout",
     "output_type": "stream",
     "text": [
      "['basic.4y', 'basic.6y', 'basic.9y', 'high.school', 'illiterate', 'professional.course', 'university.degree', 'unknown']\n"
     ]
    },
    {
     "data": {
      "image/png": "[encoded data removed]",
      "text/plain": [
       "<Figure size 432x288 with 1 Axes>"
      ]
     },
     "metadata": {},
     "output_type": "display_data"
    }
   ],
   "source": [
    "import numpy as np\n",
    "import matplotlib.pyplot as plt\n",
    "fields=['job','education']\n",
    "if 1==1:\n",
    "    for field in fields:\n",
    "        ages = sorted(data[field].drop_duplicates())\n",
    "        print(ages)\n",
    "#ages=ages[0:10]\n",
    "        N = len(ages)\n",
    "        AgeN = [(dataY[dataY[field]==age][\"y\"].count()/data[data[field]==age][\"y\"].count()) for age in ages]\n",
    "       \n",
    "        AgeY = [dataY[dataY[field]==age][\"y\"].count()*100/data[data[field]==age][\"y\"].count() for age in ages]\n",
    "        ind = np.arange(N)    # the x locations for the groups\n",
    "        width = 0.35       # the width of the bars: can also be len(x) sequence\n",
    "       # AgeFull = [  100 for age in ages]\n",
    "#print(AgeY)\n",
    "#print(AgeN)\n",
    "        p1 = plt.bar(ind, AgeN, width )\n",
    "        p2 = plt.bar(ind, AgeY, width ,\n",
    "             bottom=AgeN)\n",
    "\n",
    "        plt.ylabel('count(*)')\n",
    "        plt.title('count by group by '+field)\n",
    "        plt.xticks(ind, ages)\n",
    "        plt.yticks(np.arange(0, 100, 10))\n",
    "        plt.legend((p1[0], p2[0]), ('No', 'Yes'))\n",
    "        plt.show() "
   ]
  },
  {
   "cell_type": "code",
   "execution_count": 73,
   "metadata": {},
   "outputs": [
    {
     "data": {
      "image/png": "[encoded data removed]",
      "text/plain": [
       "<Figure size 432x288 with 1 Axes>"
      ]
     },
     "metadata": {},
     "output_type": "display_data"
    }
   ],
   "source": [
    "import numpy as np\n",
    "import matplotlib.pyplot as plt\n",
    "\n",
    "\n",
    "N = 5\n",
    "menMeans = [20, 35, 30, 35, 27]\n",
    "womenMeans = [25, 32, 34, 20, 25]\n",
    "ind = np.arange(N)    # the x locations for the groups\n",
    "width = 0.35       # the width of the bars: can also be len(x) sequence\n",
    "\n",
    "p1 = plt.bar(ind, menMeans, width )\n",
    "p2 = plt.bar(ind, womenMeans, width,\n",
    "             bottom=menMeans )\n",
    "\n",
    "plt.ylabel('Scores')\n",
    "plt.title('Scores by group and gender')\n",
    "plt.xticks(ind, ('G1', 'G2', 'G3', 'G4', 'G5'))\n",
    "plt.yticks(np.arange(0, 81, 10))\n",
    "plt.legend((p1[0], p2[0]), ('Men', 'Women'))\n",
    "\n",
    "plt.show()"
   ]
  },
  {
   "cell_type": "code",
   "execution_count": 37,
   "metadata": {},
   "outputs": [
    {
     "ename": "KeyError",
     "evalue": "0",
     "output_type": "error",
     "traceback": [
      "\u001b[1;31m---------------------------------------------------------------------------\u001b[0m",
      "\u001b[1;31mKeyError\u001b[0m                                  Traceback (most recent call last)",
      "\u001b[1;32m<ipython-input-37-4b26a156ef9c>\u001b[0m in \u001b[0;36m<module>\u001b[1;34m()\u001b[0m\n\u001b[1;32m----> 1\u001b[1;33m \u001b[0mDataAgeY\u001b[0m\u001b[1;33m[\u001b[0m\u001b[1;36m0\u001b[0m\u001b[1;33m]\u001b[0m\u001b[1;33m\u001b[0m\u001b[0m\n\u001b[0m",
      "\u001b[1;32m~\\Anaconda3\\lib\\site-packages\\pandas\\core\\series.py\u001b[0m in \u001b[0;36m__getitem__\u001b[1;34m(self, key)\u001b[0m\n\u001b[0;32m    764\u001b[0m         \u001b[0mkey\u001b[0m \u001b[1;33m=\u001b[0m \u001b[0mcom\u001b[0m\u001b[1;33m.\u001b[0m\u001b[0m_apply_if_callable\u001b[0m\u001b[1;33m(\u001b[0m\u001b[0mkey\u001b[0m\u001b[1;33m,\u001b[0m \u001b[0mself\u001b[0m\u001b[1;33m)\u001b[0m\u001b[1;33m\u001b[0m\u001b[0m\n\u001b[0;32m    765\u001b[0m         \u001b[1;32mtry\u001b[0m\u001b[1;33m:\u001b[0m\u001b[1;33m\u001b[0m\u001b[0m\n\u001b[1;32m--> 766\u001b[1;33m             \u001b[0mresult\u001b[0m \u001b[1;33m=\u001b[0m \u001b[0mself\u001b[0m\u001b[1;33m.\u001b[0m\u001b[0mindex\u001b[0m\u001b[1;33m.\u001b[0m\u001b[0mget_value\u001b[0m\u001b[1;33m(\u001b[0m\u001b[0mself\u001b[0m\u001b[1;33m,\u001b[0m \u001b[0mkey\u001b[0m\u001b[1;33m)\u001b[0m\u001b[1;33m\u001b[0m\u001b[0m\n\u001b[0m\u001b[0;32m    767\u001b[0m \u001b[1;33m\u001b[0m\u001b[0m\n\u001b[0;32m    768\u001b[0m             \u001b[1;32mif\u001b[0m \u001b[1;32mnot\u001b[0m \u001b[0mis_scalar\u001b[0m\u001b[1;33m(\u001b[0m\u001b[0mresult\u001b[0m\u001b[1;33m)\u001b[0m\u001b[1;33m:\u001b[0m\u001b[1;33m\u001b[0m\u001b[0m\n",
      "\u001b[1;32m~\\Anaconda3\\lib\\site-packages\\pandas\\core\\indexes\\base.py\u001b[0m in \u001b[0;36mget_value\u001b[1;34m(self, series, key)\u001b[0m\n\u001b[0;32m   3101\u001b[0m         \u001b[1;32mtry\u001b[0m\u001b[1;33m:\u001b[0m\u001b[1;33m\u001b[0m\u001b[0m\n\u001b[0;32m   3102\u001b[0m             return self._engine.get_value(s, k,\n\u001b[1;32m-> 3103\u001b[1;33m                                           tz=getattr(series.dtype, 'tz', None))\n\u001b[0m\u001b[0;32m   3104\u001b[0m         \u001b[1;32mexcept\u001b[0m \u001b[0mKeyError\u001b[0m \u001b[1;32mas\u001b[0m \u001b[0me1\u001b[0m\u001b[1;33m:\u001b[0m\u001b[1;33m\u001b[0m\u001b[0m\n\u001b[0;32m   3105\u001b[0m             \u001b[1;32mif\u001b[0m \u001b[0mlen\u001b[0m\u001b[1;33m(\u001b[0m\u001b[0mself\u001b[0m\u001b[1;33m)\u001b[0m \u001b[1;33m>\u001b[0m \u001b[1;36m0\u001b[0m \u001b[1;32mand\u001b[0m \u001b[0mself\u001b[0m\u001b[1;33m.\u001b[0m\u001b[0minferred_type\u001b[0m \u001b[1;32min\u001b[0m \u001b[1;33m[\u001b[0m\u001b[1;34m'integer'\u001b[0m\u001b[1;33m,\u001b[0m \u001b[1;34m'boolean'\u001b[0m\u001b[1;33m]\u001b[0m\u001b[1;33m:\u001b[0m\u001b[1;33m\u001b[0m\u001b[0m\n",
      "\u001b[1;32mpandas\\_libs\\index.pyx\u001b[0m in \u001b[0;36mpandas._libs.index.IndexEngine.get_value\u001b[1;34m()\u001b[0m\n",
      "\u001b[1;32mpandas\\_libs\\index.pyx\u001b[0m in \u001b[0;36mpandas._libs.index.IndexEngine.get_value\u001b[1;34m()\u001b[0m\n",
      "\u001b[1;32mpandas\\_libs\\index.pyx\u001b[0m in \u001b[0;36mpandas._libs.index.IndexEngine.get_loc\u001b[1;34m()\u001b[0m\n",
      "\u001b[1;32mpandas\\_libs\\hashtable_class_helper.pxi\u001b[0m in \u001b[0;36mpandas._libs.hashtable.Int64HashTable.get_item\u001b[1;34m()\u001b[0m\n",
      "\u001b[1;32mpandas\\_libs\\hashtable_class_helper.pxi\u001b[0m in \u001b[0;36mpandas._libs.hashtable.Int64HashTable.get_item\u001b[1;34m()\u001b[0m\n",
      "\u001b[1;31mKeyError\u001b[0m: 0"
     ]
    }
   ],
   "source": [
    "from cycler import cycler\n",
    "\n",
    "df = pd.read_csv('scorecard.csv')\n",
    "df = df.ix[0:10]\n",
    "degList = [i for i in df.columns if i[0:4]=='PCIP']\n",
    "bar_l = range(df.shape[0])\n",
    "\n",
    "cm = plt.get_cmap('nipy_spectral')\n",
    "\n",
    "f, ax = plt.subplots(1, figsize=(10,5))\n",
    "ax.set_prop_cycle(cycler('color',[cm(1.*i/len(degList)) for i in range(len(degList))]))\n",
    "\n",
    "bottom = np.zeros_like(bar_l).astype('float')\n",
    "for i, deg in enumerate(degList):\n",
    "    ax.bar(bar_l, df[deg], bottom = bottom, label=deg)\n",
    "    bottom += df[deg].values\n",
    "\n",
    "ax.set_xticks(bar_l)\n",
    "ax.set_xticklabels(df['INSTNM'].values, rotation=90, size='x-small')\n",
    "ax.legend(loc=\"upper left\", bbox_to_anchor=(1,1), ncol=2, fontsize='x-small')\n",
    "f.subplots_adjust(right=0.75, bottom=0.4)\n",
    "f.show()"
   ]
  },
  {
   "cell_type": "code",
   "execution_count": 53,
   "metadata": {},
   "outputs": [
    {
     "name": "stdout",
     "output_type": "stream",
     "text": [
      "[80, 624]\n",
      "[62, 584]\n",
      "[137, 1338]\n",
      "[84, 1077]\n",
      "[92, 1011]\n",
      "[69, 394]\n",
      "[113, 1165]\n",
      "[86, 377]\n",
      "[93, 505]\n",
      "[186, 1267]\n",
      "[167, 1592]\n",
      "[64, 620]\n",
      "[79, 951]\n",
      "[87, 788]\n",
      "[114, 1318]\n",
      "[202, 1512]\n",
      "[56, 592]\n",
      "[55, 784]\n",
      "[184, 1561]\n",
      "[81, 698]\n",
      "[58, 518]\n",
      "[184, 1662]\n",
      "[143, 1264]\n",
      "[77, 934]\n",
      "[91, 1051]\n",
      "[58, 225]\n",
      "[68, 665]\n",
      "[58, 870]\n",
      "[72, 682]\n",
      "[97, 882]\n",
      "[210, 1623]\n",
      "[220, 1727]\n",
      "[88, 967]\n",
      "[154, 1626]\n",
      "[151, 850]\n",
      "[114, 737]\n",
      "[122, 576]\n",
      "[36, 101]\n",
      "[48, 178]\n",
      "[23, 42]\n",
      "[29, 73]\n",
      "[32, 41]\n",
      "[20, 22]\n",
      "[12, 16]\n",
      "[19, 28]\n",
      "[29, 28]\n",
      "[18, 16]\n",
      "[11, 15]\n",
      "[13, 21]\n",
      "[9, 13]\n",
      "[0, 1]\n",
      "[13, 7]\n",
      "[15, 18]\n",
      "[11, 13]\n",
      "[17, 38]\n",
      "[18, 13]\n",
      "[25, 37]\n",
      "[23, 21]\n",
      "[13, 21]\n",
      "[11, 6]\n",
      "[27, 30]\n",
      "[21, 32]\n",
      "[14, 20]\n",
      "[14, 13]\n",
      "[7, 8]\n",
      "[7, 7]\n",
      "[8, 9]\n",
      "[8, 12]\n",
      "[15, 17]\n",
      "[2, 3]\n",
      "[1, 0]\n",
      "[0, 2]\n",
      "[5, 3]\n",
      "[2, 0]\n",
      "[0, 1]\n",
      "[3, 4]\n",
      "[3, 1]\n",
      "[2, 0]\n"
     ]
    },
    {
     "data": {
      "image/png": "[encoded data removed]",
      "text/plain": [
       "<Figure size 720x504 with 1 Axes>"
      ]
     },
     "metadata": {},
     "output_type": "display_data"
    }
   ],
   "source": [
    "fig, ax = plt.subplots(figsize=(10,7))  \n",
    "\n",
    "ages = data['age'].drop_duplicates()\n",
    "margin_bottom = np.zeros(len(data['y'].drop_duplicates()))\n",
    "colors = [\"#006D2C\", \"#31A354\",\"#74C476\"]\n",
    "\n",
    "for num, age in enumerate(ages):\n",
    "    values = [dataY[dataY['age']==age][\"y\"].count(),dataN[dataN['age']==age][\"y\"].count()]  #list(df[df['age'] == age].loc[:, 'Value'])\n",
    "    print(values)\n",
    "\n",
    "    #data[data['age'] == age].plot.bar(x='y',y='Value', ax=ax, stacked=True, \n",
    "        #                            bottom = margin_bottom, color=colors[num], label=age)\n",
    "    #margin_bottom += values\n",
    "\n",
    "#plt.show()"
   ]
  },
  {
   "cell_type": "code",
   "execution_count": 47,
   "metadata": {},
   "outputs": [
    {
     "ename": "TypeError",
     "evalue": "f() takes 1 positional argument but 2 were given",
     "output_type": "error",
     "traceback": [
      "\u001b[1;31m---------------------------------------------------------------------------\u001b[0m",
      "\u001b[1;31mTypeError\u001b[0m                                 Traceback (most recent call last)",
      "\u001b[1;32m<ipython-input-47-c4da7326aaf7>\u001b[0m in \u001b[0;36m<module>\u001b[1;34m()\u001b[0m\n\u001b[1;32m----> 1\u001b[1;33m \u001b[0mdata\u001b[0m\u001b[1;33m.\u001b[0m\u001b[0mgroupby\u001b[0m\u001b[1;33m(\u001b[0m\u001b[1;34m\"job\"\u001b[0m\u001b[1;33m)\u001b[0m\u001b[1;33m.\u001b[0m\u001b[0mmin\u001b[0m\u001b[1;33m(\u001b[0m\u001b[1;34m\"age\"\u001b[0m\u001b[1;33m)\u001b[0m\u001b[1;33m\u001b[0m\u001b[0m\n\u001b[0m",
      "\u001b[1;31mTypeError\u001b[0m: f() takes 1 positional argument but 2 were given"
     ]
    }
   ],
   "source": [
    "data.groupby(\"job\").min(\"age\")"
   ]
  },
  {
   "cell_type": "code",
   "execution_count": 53,
   "metadata": {},
   "outputs": [
    {
     "data": {
      "text/html": [
       "<div>\n",
       "<style scoped>\n",
       "    .dataframe tbody tr th:only-of-type {\n",
       "        vertical-align: middle;\n",
       "    }\n",
       "\n",
       "    .dataframe tbody tr th {\n",
       "        vertical-align: top;\n",
       "    }\n",
       "\n",
       "    .dataframe thead th {\n",
       "        text-align: right;\n",
       "    }\n",
       "</style>\n",
       "<table border=\"1\" class=\"dataframe\">\n",
       "  <thead>\n",
       "    <tr style=\"text-align: right;\">\n",
       "      <th></th>\n",
       "      <th>mean</th>\n",
       "      <th>min</th>\n",
       "      <th>max</th>\n",
       "      <th>count</th>\n",
       "    </tr>\n",
       "    <tr>\n",
       "      <th>job</th>\n",
       "      <th></th>\n",
       "      <th></th>\n",
       "      <th></th>\n",
       "      <th></th>\n",
       "    </tr>\n",
       "  </thead>\n",
       "  <tbody>\n",
       "    <tr>\n",
       "      <th>admin.</th>\n",
       "      <td>38.187296</td>\n",
       "      <td>20</td>\n",
       "      <td>72</td>\n",
       "      <td>10422</td>\n",
       "    </tr>\n",
       "    <tr>\n",
       "      <th>blue-collar</th>\n",
       "      <td>39.555760</td>\n",
       "      <td>20</td>\n",
       "      <td>80</td>\n",
       "      <td>9254</td>\n",
       "    </tr>\n",
       "    <tr>\n",
       "      <th>entrepreneur</th>\n",
       "      <td>41.723214</td>\n",
       "      <td>20</td>\n",
       "      <td>69</td>\n",
       "      <td>1456</td>\n",
       "    </tr>\n",
       "    <tr>\n",
       "      <th>housemaid</th>\n",
       "      <td>45.500000</td>\n",
       "      <td>21</td>\n",
       "      <td>85</td>\n",
       "      <td>1060</td>\n",
       "    </tr>\n",
       "    <tr>\n",
       "      <th>management</th>\n",
       "      <td>42.362859</td>\n",
       "      <td>21</td>\n",
       "      <td>80</td>\n",
       "      <td>2924</td>\n",
       "    </tr>\n",
       "    <tr>\n",
       "      <th>retired</th>\n",
       "      <td>62.027326</td>\n",
       "      <td>23</td>\n",
       "      <td>98</td>\n",
       "      <td>1720</td>\n",
       "    </tr>\n",
       "    <tr>\n",
       "      <th>self-employed</th>\n",
       "      <td>39.949331</td>\n",
       "      <td>21</td>\n",
       "      <td>71</td>\n",
       "      <td>1421</td>\n",
       "    </tr>\n",
       "    <tr>\n",
       "      <th>services</th>\n",
       "      <td>37.926430</td>\n",
       "      <td>20</td>\n",
       "      <td>69</td>\n",
       "      <td>3969</td>\n",
       "    </tr>\n",
       "    <tr>\n",
       "      <th>student</th>\n",
       "      <td>25.894857</td>\n",
       "      <td>17</td>\n",
       "      <td>47</td>\n",
       "      <td>875</td>\n",
       "    </tr>\n",
       "    <tr>\n",
       "      <th>technician</th>\n",
       "      <td>38.507638</td>\n",
       "      <td>20</td>\n",
       "      <td>70</td>\n",
       "      <td>6743</td>\n",
       "    </tr>\n",
       "    <tr>\n",
       "      <th>unemployed</th>\n",
       "      <td>39.733728</td>\n",
       "      <td>21</td>\n",
       "      <td>66</td>\n",
       "      <td>1014</td>\n",
       "    </tr>\n",
       "    <tr>\n",
       "      <th>unknown</th>\n",
       "      <td>45.563636</td>\n",
       "      <td>24</td>\n",
       "      <td>81</td>\n",
       "      <td>330</td>\n",
       "    </tr>\n",
       "  </tbody>\n",
       "</table>\n",
       "</div>"
      ],
      "text/plain": [
       "                    mean  min  max  count\n",
       "job                                      \n",
       "admin.         38.187296   20   72  10422\n",
       "blue-collar    39.555760   20   80   9254\n",
       "entrepreneur   41.723214   20   69   1456\n",
       "housemaid      45.500000   21   85   1060\n",
       "management     42.362859   21   80   2924\n",
       "retired        62.027326   23   98   1720\n",
       "self-employed  39.949331   21   71   1421\n",
       "services       37.926430   20   69   3969\n",
       "student        25.894857   17   47    875\n",
       "technician     38.507638   20   70   6743\n",
       "unemployed     39.733728   21   66   1014\n",
       "unknown        45.563636   24   81    330"
      ]
     },
     "execution_count": 53,
     "metadata": {},
     "output_type": "execute_result"
    }
   ],
   "source": [
    "data.groupby('job').age.agg(['mean','min', 'max','count' ])"
   ]
  },
  {
   "cell_type": "code",
   "execution_count": 58,
   "metadata": {},
   "outputs": [],
   "source": [
    "def fill_unknown(data, bin_attrs, cate_attrs, numeric_attrs):\n",
    "    # fill_attrs = [\"default\"]\n",
    "    fill_attrs = []\n",
    "    for i in bin_attrs+cate_attrs:\n",
    "        if data[data[i] == \"unknown\"][\"y\"].count() < 2000:\n",
    "            # delete col containing unknown\n",
    "            data = data[data[i] != \"unknown\"] \n",
    "        else:\n",
    "            fill_attrs.append(i)\n",
    "     \n",
    "    data[\"y\"] = data[\"y\"].map({\"no\":0,\"yes\": 1}).astype(int)\n",
    "    for i in fill_attrs:     \n",
    "        test_data = data[data[i] == \"unknown\"]\n",
    "        testX = test_data.drop(fill_attrs, axis=1)\n",
    "        train_data = data[data[i] != \"unknown\"]        \n",
    "        trainY = train_data[i]\n",
    "        trainX = train_data.drop(fill_attrs, axis=1)    \n",
    "        test_data[i] = train_predict_unknown(trainX, trainY, testX)\n",
    "        data = pd.concat([train_data, test_data])\n",
    "    \n",
    "    return data"
   ]
  },
  {
   "cell_type": "code",
   "execution_count": 56,
   "metadata": {},
   "outputs": [],
   "source": [
    "numeric_attrs = ['age','duration', 'campaign', 'pdays', 'previous',\n",
    "                     'emp.var.rate', 'cons.price.idx', 'cons.conf.idx',\n",
    "                     'euribor3m', 'nr.employed',]\n",
    "bin_attrs = ['default', 'housing', 'loan']\n",
    "cate_attrs = ['poutcome', 'education', 'job', 'marital', \n",
    "                  'contact', 'month','day_of_week']"
   ]
  },
  {
   "cell_type": "code",
   "execution_count": 63,
   "metadata": {},
   "outputs": [
    {
     "ename": "ValueError",
     "evalue": "could not convert string to float: 'failure'",
     "output_type": "error",
     "traceback": [
      "\u001b[1;31m---------------------------------------------------------------------------\u001b[0m",
      "\u001b[1;31mValueError\u001b[0m                                Traceback (most recent call last)",
      "\u001b[1;32m<ipython-input-63-33d372306513>\u001b[0m in \u001b[0;36m<module>\u001b[1;34m()\u001b[0m\n\u001b[1;32m----> 1\u001b[1;33m \u001b[0mdata\u001b[0m\u001b[1;33m=\u001b[0m\u001b[0mfill_unknown\u001b[0m\u001b[1;33m(\u001b[0m\u001b[0mdata\u001b[0m\u001b[1;33m,\u001b[0m \u001b[0mbin_attrs\u001b[0m\u001b[1;33m,\u001b[0m \u001b[0mcate_attrs\u001b[0m\u001b[1;33m,\u001b[0m \u001b[0mnumeric_attrs\u001b[0m\u001b[1;33m)\u001b[0m\u001b[1;33m\u001b[0m\u001b[0m\n\u001b[0m",
      "\u001b[1;32m<ipython-input-58-d1e35109c987>\u001b[0m in \u001b[0;36mfill_unknown\u001b[1;34m(data, bin_attrs, cate_attrs, numeric_attrs)\u001b[0m\n\u001b[0;32m     16\u001b[0m         \u001b[0mtrainY\u001b[0m \u001b[1;33m=\u001b[0m \u001b[0mtrain_data\u001b[0m\u001b[1;33m[\u001b[0m\u001b[0mi\u001b[0m\u001b[1;33m]\u001b[0m\u001b[1;33m\u001b[0m\u001b[0m\n\u001b[0;32m     17\u001b[0m         \u001b[0mtrainX\u001b[0m \u001b[1;33m=\u001b[0m \u001b[0mtrain_data\u001b[0m\u001b[1;33m.\u001b[0m\u001b[0mdrop\u001b[0m\u001b[1;33m(\u001b[0m\u001b[0mfill_attrs\u001b[0m\u001b[1;33m,\u001b[0m \u001b[0maxis\u001b[0m\u001b[1;33m=\u001b[0m\u001b[1;36m1\u001b[0m\u001b[1;33m)\u001b[0m\u001b[1;33m\u001b[0m\u001b[0m\n\u001b[1;32m---> 18\u001b[1;33m         \u001b[0mtest_data\u001b[0m\u001b[1;33m[\u001b[0m\u001b[0mi\u001b[0m\u001b[1;33m]\u001b[0m \u001b[1;33m=\u001b[0m \u001b[0mtrain_predict_unknown\u001b[0m\u001b[1;33m(\u001b[0m\u001b[0mtrainX\u001b[0m\u001b[1;33m,\u001b[0m \u001b[0mtrainY\u001b[0m\u001b[1;33m,\u001b[0m \u001b[0mtestX\u001b[0m\u001b[1;33m)\u001b[0m\u001b[1;33m\u001b[0m\u001b[0m\n\u001b[0m\u001b[0;32m     19\u001b[0m         \u001b[0mdata\u001b[0m \u001b[1;33m=\u001b[0m \u001b[0mpd\u001b[0m\u001b[1;33m.\u001b[0m\u001b[0mconcat\u001b[0m\u001b[1;33m(\u001b[0m\u001b[1;33m[\u001b[0m\u001b[0mtrain_data\u001b[0m\u001b[1;33m,\u001b[0m \u001b[0mtest_data\u001b[0m\u001b[1;33m]\u001b[0m\u001b[1;33m)\u001b[0m\u001b[1;33m\u001b[0m\u001b[0m\n\u001b[0;32m     20\u001b[0m \u001b[1;33m\u001b[0m\u001b[0m\n",
      "\u001b[1;32m<ipython-input-60-c2ae621ee910>\u001b[0m in \u001b[0;36mtrain_predict_unknown\u001b[1;34m(trainX, trainY, testX)\u001b[0m\n\u001b[0;32m      1\u001b[0m \u001b[1;32mdef\u001b[0m \u001b[0mtrain_predict_unknown\u001b[0m\u001b[1;33m(\u001b[0m\u001b[0mtrainX\u001b[0m\u001b[1;33m,\u001b[0m \u001b[0mtrainY\u001b[0m\u001b[1;33m,\u001b[0m \u001b[0mtestX\u001b[0m\u001b[1;33m)\u001b[0m\u001b[1;33m:\u001b[0m\u001b[1;33m\u001b[0m\u001b[0m\n\u001b[0;32m      2\u001b[0m     \u001b[0mforest\u001b[0m \u001b[1;33m=\u001b[0m \u001b[0mRandomForestClassifier\u001b[0m\u001b[1;33m(\u001b[0m\u001b[0mn_estimators\u001b[0m\u001b[1;33m=\u001b[0m\u001b[1;36m100\u001b[0m\u001b[1;33m)\u001b[0m\u001b[1;33m\u001b[0m\u001b[0m\n\u001b[1;32m----> 3\u001b[1;33m     \u001b[0mforest\u001b[0m \u001b[1;33m=\u001b[0m \u001b[0mforest\u001b[0m\u001b[1;33m.\u001b[0m\u001b[0mfit\u001b[0m\u001b[1;33m(\u001b[0m\u001b[0mtrainX\u001b[0m\u001b[1;33m,\u001b[0m \u001b[0mtrainY\u001b[0m\u001b[1;33m)\u001b[0m\u001b[1;33m\u001b[0m\u001b[0m\n\u001b[0m\u001b[0;32m      4\u001b[0m     \u001b[0mtest_predictY\u001b[0m \u001b[1;33m=\u001b[0m \u001b[0mforest\u001b[0m\u001b[1;33m.\u001b[0m\u001b[0mpredict\u001b[0m\u001b[1;33m(\u001b[0m\u001b[0mtestX\u001b[0m\u001b[1;33m)\u001b[0m\u001b[1;33m.\u001b[0m\u001b[0mastype\u001b[0m\u001b[1;33m(\u001b[0m\u001b[0mint\u001b[0m\u001b[1;33m)\u001b[0m\u001b[1;33m\u001b[0m\u001b[0m\n\u001b[0;32m      5\u001b[0m     \u001b[1;32mreturn\u001b[0m \u001b[0mpd\u001b[0m\u001b[1;33m.\u001b[0m\u001b[0mDataFrame\u001b[0m\u001b[1;33m(\u001b[0m\u001b[0mtest_predictY\u001b[0m\u001b[1;33m,\u001b[0m\u001b[0mindex\u001b[0m\u001b[1;33m=\u001b[0m\u001b[0mtestX\u001b[0m\u001b[1;33m.\u001b[0m\u001b[0mindex\u001b[0m\u001b[1;33m)\u001b[0m\u001b[1;33m\u001b[0m\u001b[0m\n",
      "\u001b[1;32m~\\Anaconda3\\lib\\site-packages\\sklearn\\ensemble\\forest.py\u001b[0m in \u001b[0;36mfit\u001b[1;34m(self, X, y, sample_weight)\u001b[0m\n\u001b[0;32m    245\u001b[0m         \"\"\"\n\u001b[0;32m    246\u001b[0m         \u001b[1;31m# Validate or convert input data\u001b[0m\u001b[1;33m\u001b[0m\u001b[1;33m\u001b[0m\u001b[0m\n\u001b[1;32m--> 247\u001b[1;33m         \u001b[0mX\u001b[0m \u001b[1;33m=\u001b[0m \u001b[0mcheck_array\u001b[0m\u001b[1;33m(\u001b[0m\u001b[0mX\u001b[0m\u001b[1;33m,\u001b[0m \u001b[0maccept_sparse\u001b[0m\u001b[1;33m=\u001b[0m\u001b[1;34m\"csc\"\u001b[0m\u001b[1;33m,\u001b[0m \u001b[0mdtype\u001b[0m\u001b[1;33m=\u001b[0m\u001b[0mDTYPE\u001b[0m\u001b[1;33m)\u001b[0m\u001b[1;33m\u001b[0m\u001b[0m\n\u001b[0m\u001b[0;32m    248\u001b[0m         \u001b[0my\u001b[0m \u001b[1;33m=\u001b[0m \u001b[0mcheck_array\u001b[0m\u001b[1;33m(\u001b[0m\u001b[0my\u001b[0m\u001b[1;33m,\u001b[0m \u001b[0maccept_sparse\u001b[0m\u001b[1;33m=\u001b[0m\u001b[1;34m'csc'\u001b[0m\u001b[1;33m,\u001b[0m \u001b[0mensure_2d\u001b[0m\u001b[1;33m=\u001b[0m\u001b[1;32mFalse\u001b[0m\u001b[1;33m,\u001b[0m \u001b[0mdtype\u001b[0m\u001b[1;33m=\u001b[0m\u001b[1;32mNone\u001b[0m\u001b[1;33m)\u001b[0m\u001b[1;33m\u001b[0m\u001b[0m\n\u001b[0;32m    249\u001b[0m         \u001b[1;32mif\u001b[0m \u001b[0msample_weight\u001b[0m \u001b[1;32mis\u001b[0m \u001b[1;32mnot\u001b[0m \u001b[1;32mNone\u001b[0m\u001b[1;33m:\u001b[0m\u001b[1;33m\u001b[0m\u001b[0m\n",
      "\u001b[1;32m~\\Anaconda3\\lib\\site-packages\\sklearn\\utils\\validation.py\u001b[0m in \u001b[0;36mcheck_array\u001b[1;34m(array, accept_sparse, dtype, order, copy, force_all_finite, ensure_2d, allow_nd, ensure_min_samples, ensure_min_features, warn_on_dtype, estimator)\u001b[0m\n\u001b[0;32m    431\u001b[0m                                       force_all_finite)\n\u001b[0;32m    432\u001b[0m     \u001b[1;32melse\u001b[0m\u001b[1;33m:\u001b[0m\u001b[1;33m\u001b[0m\u001b[0m\n\u001b[1;32m--> 433\u001b[1;33m         \u001b[0marray\u001b[0m \u001b[1;33m=\u001b[0m \u001b[0mnp\u001b[0m\u001b[1;33m.\u001b[0m\u001b[0marray\u001b[0m\u001b[1;33m(\u001b[0m\u001b[0marray\u001b[0m\u001b[1;33m,\u001b[0m \u001b[0mdtype\u001b[0m\u001b[1;33m=\u001b[0m\u001b[0mdtype\u001b[0m\u001b[1;33m,\u001b[0m \u001b[0morder\u001b[0m\u001b[1;33m=\u001b[0m\u001b[0morder\u001b[0m\u001b[1;33m,\u001b[0m \u001b[0mcopy\u001b[0m\u001b[1;33m=\u001b[0m\u001b[0mcopy\u001b[0m\u001b[1;33m)\u001b[0m\u001b[1;33m\u001b[0m\u001b[0m\n\u001b[0m\u001b[0;32m    434\u001b[0m \u001b[1;33m\u001b[0m\u001b[0m\n\u001b[0;32m    435\u001b[0m         \u001b[1;32mif\u001b[0m \u001b[0mensure_2d\u001b[0m\u001b[1;33m:\u001b[0m\u001b[1;33m\u001b[0m\u001b[0m\n",
      "\u001b[1;31mValueError\u001b[0m: could not convert string to float: 'failure'"
     ]
    }
   ],
   "source": [
    "data=fill_unknown(data, bin_attrs, cate_attrs, numeric_attrs)"
   ]
  },
  {
   "cell_type": "code",
   "execution_count": 60,
   "metadata": {},
   "outputs": [],
   "source": [
    "def train_predict_unknown(trainX, trainY, testX):\n",
    "    forest = RandomForestClassifier(n_estimators=100)\n",
    "    forest = forest.fit(trainX, trainY)\n",
    "    test_predictY = forest.predict(testX).astype(int)\n",
    "    return pd.DataFrame(test_predictY,index=testX.index)"
   ]
  },
  {
   "cell_type": "code",
   "execution_count": 62,
   "metadata": {},
   "outputs": [],
   "source": [
    "\n",
    "from sklearn.ensemble import RandomForestClassifier"
   ]
  },
  {
   "cell_type": "code",
   "execution_count": null,
   "metadata": {},
   "outputs": [],
   "source": []
  }
 ],
 "metadata": {
  "kernelspec": {
   "display_name": "Python 3",
   "language": "python",
   "name": "python3"
  },
  "language_info": {
   "codemirror_mode": {
    "name": "ipython",
    "version": 3
   },
   "file_extension": ".py",
   "mimetype": "text/x-python",
   "name": "python",
   "nbconvert_exporter": "python",
   "pygments_lexer": "ipython3",
   "version": "3.6.5"
  }
 },
 "nbformat": 4,
 "nbformat_minor": 2
}
